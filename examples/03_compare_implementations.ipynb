{
 "cells": [
  {
   "attachments": {},
   "cell_type": "markdown",
   "metadata": {},
   "source": [
    "## Ensure that all Quadtree implementations are equivalent\n",
    "We provide 3 different Quadtree implementations.\n",
    "\n",
    "This notebook shows that they produce identical results, and compares runtime."
   ]
  },
  {
   "cell_type": "code",
   "execution_count": 1,
   "metadata": {},
   "outputs": [],
   "source": [
    "%load_ext autoreload\n",
    "%autoreload 2\n",
    "import setup"
   ]
  },
  {
   "cell_type": "code",
   "execution_count": 2,
   "metadata": {},
   "outputs": [],
   "source": [
    "import torch\n",
    "from mixed_res.quadtree_impl.quadtree_dict_lookup import DictLookupQuadtreeRunner\n",
    "from mixed_res.quadtree_impl.quadtree_tensor_lookup import TensorLookupQuadtreeRunner\n",
    "from mixed_res.quadtree_impl.quadtree_z_curve import ZCurveQuadtreeRunner\n",
    "from mixed_res.patch_scorers.random_patch_scorer import RandomPatchScorer\n",
    "from mixed_res.quadtree_impl.utils import sort_by_meta, is_power_of_2\n",
    "\n",
    "device = \"cuda\" if torch.cuda.is_available() else \"cpu\"\n",
    "batch_size = 128\n",
    "image_size = 256\n",
    "num_patches = 100\n",
    "min_patch_size = 16\n",
    "max_patch_size = 64\n",
    "\n",
    "images = torch.randn(batch_size, 3, image_size, image_size, device=device)"
   ]
  },
  {
   "attachments": {},
   "cell_type": "markdown",
   "metadata": {},
   "source": [
    "### Assert equivalence"
   ]
  },
  {
   "cell_type": "code",
   "execution_count": 3,
   "metadata": {},
   "outputs": [
    {
     "name": "stdout",
     "output_type": "stream",
     "text": [
      "dict_lookup and tensor_lookup are equivalent\n",
      "dict_lookup and z_curve are equivalent\n"
     ]
    }
   ],
   "source": [
    "patch_scorer = RandomPatchScorer(seed=1337)\n",
    "\n",
    "# Init Quadtree runners from different implementations\n",
    "runner_dict_lookup = DictLookupQuadtreeRunner(num_patches, min_patch_size, max_patch_size)\n",
    "runner_tensor_lookup = TensorLookupQuadtreeRunner(num_patches, min_patch_size, max_patch_size)\n",
    "if is_power_of_2(image_size):\n",
    "    runner_z_curve = ZCurveQuadtreeRunner(num_patches, min_patch_size, max_patch_size)\n",
    "\n",
    "# Run Quadtrees\n",
    "res_dict_lookup = runner_dict_lookup.run_batch_quadtree(images, patch_scorer)\n",
    "res_tensor_lookup = runner_tensor_lookup.run_batch_quadtree(images, patch_scorer)\n",
    "if is_power_of_2(image_size):\n",
    "    res_z_curve = runner_z_curve.run_batch_quadtree(images, patch_scorer)\n",
    "\n",
    "# Sort results by metadata (patch location and scale) to make them comparable\n",
    "res_dict_lookup = sort_by_meta(res_dict_lookup)\n",
    "res_tensor_lookup = sort_by_meta(res_tensor_lookup)\n",
    "if is_power_of_2(image_size):\n",
    "    res_z_curve = sort_by_meta(res_z_curve)\n",
    "\n",
    "# Assert that results are equivalent\n",
    "assert torch.allclose(res_dict_lookup, res_tensor_lookup)\n",
    "print(\"dict_lookup and tensor_lookup are equivalent\")\n",
    "if is_power_of_2(image_size):\n",
    "    assert torch.allclose(res_dict_lookup, res_z_curve)\n",
    "    print(\"dict_lookup and z_curve are equivalent\")"
   ]
  },
  {
   "attachments": {},
   "cell_type": "markdown",
   "metadata": {},
   "source": [
    "### Compare runtimes"
   ]
  },
  {
   "cell_type": "code",
   "execution_count": 4,
   "metadata": {},
   "outputs": [
    {
     "name": "stdout",
     "output_type": "stream",
     "text": [
      "7.35 ms ± 16.3 µs per loop (mean ± std. dev. of 7 runs, 100 loops each)\n",
      "21.2 ms ± 543 µs per loop (mean ± std. dev. of 7 runs, 100 loops each)\n",
      "42.1 ms ± 1.15 ms per loop (mean ± std. dev. of 7 runs, 10 loops each)\n"
     ]
    }
   ],
   "source": [
    "%timeit runner_z_curve.run_batch_quadtree(images, patch_scorer)\n",
    "%timeit runner_tensor_lookup.run_batch_quadtree(images, patch_scorer)\n",
    "%timeit runner_dict_lookup.run_batch_quadtree(images, patch_scorer)"
   ]
  }
 ],
 "metadata": {
  "kernelspec": {
   "display_name": "mixed_res",
   "language": "python",
   "name": "python3"
  },
  "language_info": {
   "codemirror_mode": {
    "name": "ipython",
    "version": 3
   },
   "file_extension": ".py",
   "mimetype": "text/x-python",
   "name": "python",
   "nbconvert_exporter": "python",
   "pygments_lexer": "ipython3",
   "version": "3.9.16"
  },
  "orig_nbformat": 4
 },
 "nbformat": 4,
 "nbformat_minor": 2
}
